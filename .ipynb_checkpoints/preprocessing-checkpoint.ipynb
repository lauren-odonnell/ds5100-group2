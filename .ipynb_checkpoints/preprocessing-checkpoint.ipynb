{
 "cells": [
  {
   "cell_type": "code",
   "execution_count": 1,
   "id": "90d1f4f3-63bf-4904-b96c-7018fef859b1",
   "metadata": {},
   "outputs": [],
   "source": [
    "import numpy as np\n",
    "import pandas as pd\n",
    "import matplotlib.pyplot as plt"
   ]
  },
  {
   "cell_type": "markdown",
   "id": "734182b9-5e63-4f49-a250-9259dcaedab7",
   "metadata": {},
   "source": [
    "## Preprocessing"
   ]
  },
  {
   "cell_type": "markdown",
   "id": "6f0977ee-3c8c-4c1c-8a8f-b67620449010",
   "metadata": {},
   "source": [
    "Objectives:\n",
    "- Read in the data\n",
    "- format column names\n",
    "- remove na values\n",
    "- check data types\n",
    "- normalize data\n",
    "- change to appropriate data types"
   ]
  },
  {
   "cell_type": "markdown",
   "id": "47bb9d47-7b37-4990-9848-983b308225a8",
   "metadata": {},
   "source": [
    "#### Read data"
   ]
  },
  {
   "cell_type": "code",
   "execution_count": 2,
   "id": "9e4f138f-36d2-45fe-b39b-999c722f4a60",
   "metadata": {},
   "outputs": [
    {
     "data": {
      "text/html": [
       "<div>\n",
       "<style scoped>\n",
       "    .dataframe tbody tr th:only-of-type {\n",
       "        vertical-align: middle;\n",
       "    }\n",
       "\n",
       "    .dataframe tbody tr th {\n",
       "        vertical-align: top;\n",
       "    }\n",
       "\n",
       "    .dataframe thead th {\n",
       "        text-align: right;\n",
       "    }\n",
       "</style>\n",
       "<table border=\"1\" class=\"dataframe\">\n",
       "  <thead>\n",
       "    <tr style=\"text-align: right;\">\n",
       "      <th></th>\n",
       "      <th>Company Name</th>\n",
       "      <th>Job Title</th>\n",
       "      <th>Salaries Reported</th>\n",
       "      <th>Location</th>\n",
       "      <th>Salary</th>\n",
       "    </tr>\n",
       "  </thead>\n",
       "  <tbody>\n",
       "    <tr>\n",
       "      <th>0</th>\n",
       "      <td>Mu Sigma</td>\n",
       "      <td>Data Scientist</td>\n",
       "      <td>105.0</td>\n",
       "      <td>Bangalore</td>\n",
       "      <td>₹6,48,573/yr</td>\n",
       "    </tr>\n",
       "    <tr>\n",
       "      <th>1</th>\n",
       "      <td>IBM</td>\n",
       "      <td>Data Scientist</td>\n",
       "      <td>95.0</td>\n",
       "      <td>Bangalore</td>\n",
       "      <td>₹11,91,950/yr</td>\n",
       "    </tr>\n",
       "    <tr>\n",
       "      <th>2</th>\n",
       "      <td>Tata Consultancy Services</td>\n",
       "      <td>Data Scientist</td>\n",
       "      <td>66.0</td>\n",
       "      <td>Bangalore</td>\n",
       "      <td>₹8,36,874/yr</td>\n",
       "    </tr>\n",
       "    <tr>\n",
       "      <th>3</th>\n",
       "      <td>Impact Analytics</td>\n",
       "      <td>Data Scientist</td>\n",
       "      <td>40.0</td>\n",
       "      <td>Bangalore</td>\n",
       "      <td>₹6,69,578/yr</td>\n",
       "    </tr>\n",
       "    <tr>\n",
       "      <th>4</th>\n",
       "      <td>Accenture</td>\n",
       "      <td>Data Scientist</td>\n",
       "      <td>32.0</td>\n",
       "      <td>Bangalore</td>\n",
       "      <td>₹9,44,110/yr</td>\n",
       "    </tr>\n",
       "  </tbody>\n",
       "</table>\n",
       "</div>"
      ],
      "text/plain": [
       "                Company Name       Job Title  Salaries Reported   Location  \\\n",
       "0                   Mu Sigma  Data Scientist              105.0  Bangalore   \n",
       "1                        IBM  Data Scientist               95.0  Bangalore   \n",
       "2  Tata Consultancy Services  Data Scientist               66.0  Bangalore   \n",
       "3           Impact Analytics  Data Scientist               40.0  Bangalore   \n",
       "4                  Accenture  Data Scientist               32.0  Bangalore   \n",
       "\n",
       "          Salary  \n",
       "0   ₹6,48,573/yr  \n",
       "1  ₹11,91,950/yr  \n",
       "2   ₹8,36,874/yr  \n",
       "3   ₹6,69,578/yr  \n",
       "4   ₹9,44,110/yr  "
      ]
     },
     "execution_count": 2,
     "metadata": {},
     "output_type": "execute_result"
    }
   ],
   "source": [
    "salary_df = pd.read_csv('./data/Salary Dataset.csv')\n",
    "salary_df.head()"
   ]
  },
  {
   "cell_type": "markdown",
   "id": "7f1d1cb1-59cf-4db5-a3a5-f6cdb903ea4c",
   "metadata": {},
   "source": [
    "#### Reformat column names\n",
    "Best practice to remove white space from column names"
   ]
  },
  {
   "cell_type": "code",
   "execution_count": 3,
   "id": "951a1559-7a96-43d5-b46a-5541835b2b36",
   "metadata": {},
   "outputs": [
    {
     "data": {
      "text/html": [
       "<div>\n",
       "<style scoped>\n",
       "    .dataframe tbody tr th:only-of-type {\n",
       "        vertical-align: middle;\n",
       "    }\n",
       "\n",
       "    .dataframe tbody tr th {\n",
       "        vertical-align: top;\n",
       "    }\n",
       "\n",
       "    .dataframe thead th {\n",
       "        text-align: right;\n",
       "    }\n",
       "</style>\n",
       "<table border=\"1\" class=\"dataframe\">\n",
       "  <thead>\n",
       "    <tr style=\"text-align: right;\">\n",
       "      <th></th>\n",
       "      <th>Company_Name</th>\n",
       "      <th>Job_Title</th>\n",
       "      <th>Salaries_Reported</th>\n",
       "      <th>Location</th>\n",
       "      <th>Salary</th>\n",
       "    </tr>\n",
       "  </thead>\n",
       "  <tbody>\n",
       "    <tr>\n",
       "      <th>0</th>\n",
       "      <td>Mu Sigma</td>\n",
       "      <td>Data Scientist</td>\n",
       "      <td>105.0</td>\n",
       "      <td>Bangalore</td>\n",
       "      <td>₹6,48,573/yr</td>\n",
       "    </tr>\n",
       "    <tr>\n",
       "      <th>1</th>\n",
       "      <td>IBM</td>\n",
       "      <td>Data Scientist</td>\n",
       "      <td>95.0</td>\n",
       "      <td>Bangalore</td>\n",
       "      <td>₹11,91,950/yr</td>\n",
       "    </tr>\n",
       "    <tr>\n",
       "      <th>2</th>\n",
       "      <td>Tata Consultancy Services</td>\n",
       "      <td>Data Scientist</td>\n",
       "      <td>66.0</td>\n",
       "      <td>Bangalore</td>\n",
       "      <td>₹8,36,874/yr</td>\n",
       "    </tr>\n",
       "    <tr>\n",
       "      <th>3</th>\n",
       "      <td>Impact Analytics</td>\n",
       "      <td>Data Scientist</td>\n",
       "      <td>40.0</td>\n",
       "      <td>Bangalore</td>\n",
       "      <td>₹6,69,578/yr</td>\n",
       "    </tr>\n",
       "    <tr>\n",
       "      <th>4</th>\n",
       "      <td>Accenture</td>\n",
       "      <td>Data Scientist</td>\n",
       "      <td>32.0</td>\n",
       "      <td>Bangalore</td>\n",
       "      <td>₹9,44,110/yr</td>\n",
       "    </tr>\n",
       "  </tbody>\n",
       "</table>\n",
       "</div>"
      ],
      "text/plain": [
       "                Company_Name       Job_Title  Salaries_Reported   Location  \\\n",
       "0                   Mu Sigma  Data Scientist              105.0  Bangalore   \n",
       "1                        IBM  Data Scientist               95.0  Bangalore   \n",
       "2  Tata Consultancy Services  Data Scientist               66.0  Bangalore   \n",
       "3           Impact Analytics  Data Scientist               40.0  Bangalore   \n",
       "4                  Accenture  Data Scientist               32.0  Bangalore   \n",
       "\n",
       "          Salary  \n",
       "0   ₹6,48,573/yr  \n",
       "1  ₹11,91,950/yr  \n",
       "2   ₹8,36,874/yr  \n",
       "3   ₹6,69,578/yr  \n",
       "4   ₹9,44,110/yr  "
      ]
     },
     "execution_count": 3,
     "metadata": {},
     "output_type": "execute_result"
    }
   ],
   "source": [
    "salary_df.columns = salary_df.columns.str.replace(' ', '_')\n",
    "salary_df.head()"
   ]
  },
  {
   "cell_type": "markdown",
   "id": "879e72b9-0df9-4918-b1f2-1bb5ecf4f4f6",
   "metadata": {},
   "source": [
    "#### Drop na values from the dataframe"
   ]
  },
  {
   "cell_type": "code",
   "execution_count": 4,
   "id": "e06df433-a0e8-4ddc-b0af-edd6cf0a820a",
   "metadata": {},
   "outputs": [
    {
     "name": "stdout",
     "output_type": "stream",
     "text": [
      "na values exist in dataframe? True\n",
      "na values exist in dataframe? False\n"
     ]
    }
   ],
   "source": [
    "print(f'na values exist in dataframe? {salary_df.isnull().values.any()}')\n",
    "salary_df = salary_df.dropna()\n",
    "print(f'na values exist in dataframe? {salary_df.isnull().values.any()}')"
   ]
  },
  {
   "cell_type": "markdown",
   "id": "74673efd-14eb-4855-9b68-e421c1c573e8",
   "metadata": {},
   "source": [
    "#### Check data types"
   ]
  },
  {
   "cell_type": "code",
   "execution_count": 5,
   "id": "8dbe75c9-f94c-4731-bef6-e8f4f9baf83b",
   "metadata": {},
   "outputs": [
    {
     "data": {
      "text/plain": [
       "Company_Name          object\n",
       "Job_Title             object\n",
       "Salaries_Reported    float64\n",
       "Location              object\n",
       "Salary                object\n",
       "dtype: object"
      ]
     },
     "execution_count": 5,
     "metadata": {},
     "output_type": "execute_result"
    }
   ],
   "source": [
    "salary_df.dtypes"
   ]
  },
  {
   "cell_type": "markdown",
   "id": "f3405ab4-9bc3-43ff-88b8-42bab7c49de6",
   "metadata": {},
   "source": [
    "### Normalize Data of Interest - Salary\n",
    "Required actions: \n",
    "- Remove characters\n",
    "- Check salary frequency and change to a consitent format (yearly) \n",
    "- Change to float type\n",
    "- Convert salary to USD"
   ]
  },
  {
   "cell_type": "code",
   "execution_count": 6,
   "id": "908c97c6-f979-4d75-9079-a7a74d8307f8",
   "metadata": {},
   "outputs": [],
   "source": [
    "# INR to USD rate currency exchange rate\n",
    "exchange_rate = 0.013 "
   ]
  },
  {
   "cell_type": "code",
   "execution_count": 7,
   "id": "2910534a-e2fd-4ea4-bb25-c5d8896e93b2",
   "metadata": {},
   "outputs": [],
   "source": [
    "\"\"\"\n",
    "The following lambda function iterates over an iterable object and checks if each component is a digit.\n",
    "If the component is a digit it is kept. The string of digits is then cast to a float type.\n",
    "\"\"\"\n",
    "to_numeric = lambda x: float(''.join([i for i in x if i.isdigit()]))"
   ]
  },
  {
   "cell_type": "code",
   "execution_count": 8,
   "id": "84a873ce-404b-4062-a41e-fed8194e4d53",
   "metadata": {
    "tags": []
   },
   "outputs": [],
   "source": [
    "salaries = salary_df['Salary']\n",
    "\n",
    "salaries_conv = [] # list object to save each converted salary\n",
    "for s in salaries:\n",
    "    s = s[1:].replace(',', '') # remove currency symbol and commas\n",
    "    sal, freq = s.split('/') # split value of salary and pay frequency\n",
    "    sal = to_numeric(sal) # use lambda function to ensure that the salary valoue is numeric\n",
    "    if freq == 'mo':\n",
    "        sal = sal * 12 # assume working 12 months a year\n",
    "    elif freq == 'hr':\n",
    "        sal = sal * 2048 # assume standard 2048 hours in a M-F 9-5 job\n",
    "    elif freq == 'yr':\n",
    "        pass # no conversion needed\n",
    "    else:\n",
    "        print(f'freq {freq} not in condition statement') # Check to see if any frequencies were missed\n",
    "        \n",
    "    sal = sal * exchange_rate # convert INR to USD\n",
    "    salaries_conv.append(sal) # apppend current converted salary\n",
    "    \n",
    "salary_df['Salary_USD_Yr'] = salaries_conv # make new column in the df with the converted salaries"
   ]
  },
  {
   "cell_type": "code",
   "execution_count": 9,
   "id": "e5334fad-9f9b-4bc5-a2d6-88d240ca6995",
   "metadata": {},
   "outputs": [
    {
     "data": {
      "text/html": [
       "<div>\n",
       "<style scoped>\n",
       "    .dataframe tbody tr th:only-of-type {\n",
       "        vertical-align: middle;\n",
       "    }\n",
       "\n",
       "    .dataframe tbody tr th {\n",
       "        vertical-align: top;\n",
       "    }\n",
       "\n",
       "    .dataframe thead th {\n",
       "        text-align: right;\n",
       "    }\n",
       "</style>\n",
       "<table border=\"1\" class=\"dataframe\">\n",
       "  <thead>\n",
       "    <tr style=\"text-align: right;\">\n",
       "      <th></th>\n",
       "      <th>Company_Name</th>\n",
       "      <th>Job_Title</th>\n",
       "      <th>Salaries_Reported</th>\n",
       "      <th>Location</th>\n",
       "      <th>Salary</th>\n",
       "      <th>Salary_USD_Yr</th>\n",
       "    </tr>\n",
       "  </thead>\n",
       "  <tbody>\n",
       "    <tr>\n",
       "      <th>0</th>\n",
       "      <td>Mu Sigma</td>\n",
       "      <td>Data Scientist</td>\n",
       "      <td>105.0</td>\n",
       "      <td>Bangalore</td>\n",
       "      <td>₹6,48,573/yr</td>\n",
       "      <td>8431.449</td>\n",
       "    </tr>\n",
       "    <tr>\n",
       "      <th>1</th>\n",
       "      <td>IBM</td>\n",
       "      <td>Data Scientist</td>\n",
       "      <td>95.0</td>\n",
       "      <td>Bangalore</td>\n",
       "      <td>₹11,91,950/yr</td>\n",
       "      <td>15495.350</td>\n",
       "    </tr>\n",
       "    <tr>\n",
       "      <th>2</th>\n",
       "      <td>Tata Consultancy Services</td>\n",
       "      <td>Data Scientist</td>\n",
       "      <td>66.0</td>\n",
       "      <td>Bangalore</td>\n",
       "      <td>₹8,36,874/yr</td>\n",
       "      <td>10879.362</td>\n",
       "    </tr>\n",
       "    <tr>\n",
       "      <th>3</th>\n",
       "      <td>Impact Analytics</td>\n",
       "      <td>Data Scientist</td>\n",
       "      <td>40.0</td>\n",
       "      <td>Bangalore</td>\n",
       "      <td>₹6,69,578/yr</td>\n",
       "      <td>8704.514</td>\n",
       "    </tr>\n",
       "    <tr>\n",
       "      <th>4</th>\n",
       "      <td>Accenture</td>\n",
       "      <td>Data Scientist</td>\n",
       "      <td>32.0</td>\n",
       "      <td>Bangalore</td>\n",
       "      <td>₹9,44,110/yr</td>\n",
       "      <td>12273.430</td>\n",
       "    </tr>\n",
       "  </tbody>\n",
       "</table>\n",
       "</div>"
      ],
      "text/plain": [
       "                Company_Name       Job_Title  Salaries_Reported   Location  \\\n",
       "0                   Mu Sigma  Data Scientist              105.0  Bangalore   \n",
       "1                        IBM  Data Scientist               95.0  Bangalore   \n",
       "2  Tata Consultancy Services  Data Scientist               66.0  Bangalore   \n",
       "3           Impact Analytics  Data Scientist               40.0  Bangalore   \n",
       "4                  Accenture  Data Scientist               32.0  Bangalore   \n",
       "\n",
       "          Salary  Salary_USD_Yr  \n",
       "0   ₹6,48,573/yr       8431.449  \n",
       "1  ₹11,91,950/yr      15495.350  \n",
       "2   ₹8,36,874/yr      10879.362  \n",
       "3   ₹6,69,578/yr       8704.514  \n",
       "4   ₹9,44,110/yr      12273.430  "
      ]
     },
     "execution_count": 9,
     "metadata": {},
     "output_type": "execute_result"
    }
   ],
   "source": [
    "salary_df.head()"
   ]
  },
  {
   "cell_type": "markdown",
   "id": "aaa98f24-fa64-438f-b0ff-f0c1fc20bff5",
   "metadata": {},
   "source": [
    "## Stats and Visualizations\n",
    "Objectives:\n",
    "- Location stats:\n",
    "    - Show group summary stats (mean, standard deviation, variance)\n",
    "    - Plot bar chart the average salary by location\n",
    "    - Plot box plot of salary by location\n",
    "- Company stats:\n",
    "    - Show group summary stats (mean, standard deviation, variance)\n",
    "    - Plot bar chart the average salary by company\n",
    "    - Plot box plot of salary by company"
   ]
  },
  {
   "cell_type": "markdown",
   "id": "8ad2222b-a118-4bf7-a9a5-074e1be30c9d",
   "metadata": {},
   "source": [
    "### Locations"
   ]
  },
  {
   "cell_type": "markdown",
   "id": "027e43a8-8b5e-44e6-828b-12b78d4ed83f",
   "metadata": {},
   "source": [
    "#### Location group summary stats"
   ]
  },
  {
   "cell_type": "code",
   "execution_count": 10,
   "id": "f2e18614-5dfe-4507-aaf5-d05dbe4b2763",
   "metadata": {},
   "outputs": [
    {
     "name": "stdout",
     "output_type": "stream",
     "text": [
      "{'Hyderabad', 'New Delhi', 'Bangalore', 'Mumbai', 'Pune'}\n"
     ]
    },
    {
     "data": {
      "text/html": [
       "<div>\n",
       "<style scoped>\n",
       "    .dataframe tbody tr th:only-of-type {\n",
       "        vertical-align: middle;\n",
       "    }\n",
       "\n",
       "    .dataframe tbody tr th {\n",
       "        vertical-align: top;\n",
       "    }\n",
       "\n",
       "    .dataframe thead th {\n",
       "        text-align: right;\n",
       "    }\n",
       "</style>\n",
       "<table border=\"1\" class=\"dataframe\">\n",
       "  <thead>\n",
       "    <tr style=\"text-align: right;\">\n",
       "      <th></th>\n",
       "      <th>mean</th>\n",
       "      <th>std</th>\n",
       "      <th>var</th>\n",
       "    </tr>\n",
       "    <tr>\n",
       "      <th>Location</th>\n",
       "      <th></th>\n",
       "      <th></th>\n",
       "      <th></th>\n",
       "    </tr>\n",
       "  </thead>\n",
       "  <tbody>\n",
       "    <tr>\n",
       "      <th>Bangalore</th>\n",
       "      <td>13680.022827</td>\n",
       "      <td>13411.397771</td>\n",
       "      <td>1.798656e+08</td>\n",
       "    </tr>\n",
       "    <tr>\n",
       "      <th>Hyderabad</th>\n",
       "      <td>10729.413762</td>\n",
       "      <td>9175.974176</td>\n",
       "      <td>8.419850e+07</td>\n",
       "    </tr>\n",
       "    <tr>\n",
       "      <th>Mumbai</th>\n",
       "      <td>10443.190024</td>\n",
       "      <td>8944.536081</td>\n",
       "      <td>8.000473e+07</td>\n",
       "    </tr>\n",
       "    <tr>\n",
       "      <th>New Delhi</th>\n",
       "      <td>10760.410452</td>\n",
       "      <td>7841.351745</td>\n",
       "      <td>6.148680e+07</td>\n",
       "    </tr>\n",
       "    <tr>\n",
       "      <th>Pune</th>\n",
       "      <td>11426.150337</td>\n",
       "      <td>11195.688070</td>\n",
       "      <td>1.253434e+08</td>\n",
       "    </tr>\n",
       "  </tbody>\n",
       "</table>\n",
       "</div>"
      ],
      "text/plain": [
       "                   mean           std           var\n",
       "Location                                           \n",
       "Bangalore  13680.022827  13411.397771  1.798656e+08\n",
       "Hyderabad  10729.413762   9175.974176  8.419850e+07\n",
       "Mumbai     10443.190024   8944.536081  8.000473e+07\n",
       "New Delhi  10760.410452   7841.351745  6.148680e+07\n",
       "Pune       11426.150337  11195.688070  1.253434e+08"
      ]
     },
     "execution_count": 10,
     "metadata": {},
     "output_type": "execute_result"
    }
   ],
   "source": [
    "print(set(salary_df['Location'].to_list()))\n",
    "salary_df.groupby(['Location'])['Salary_USD_Yr'].agg([np.mean, np.std, np.var])"
   ]
  },
  {
   "cell_type": "markdown",
   "id": "a4517520-5207-447b-8fe3-5f3d098a3bc6",
   "metadata": {},
   "source": [
    "#### Bar chart (Mean Salary by Location)"
   ]
  },
  {
   "cell_type": "code",
   "execution_count": 11,
   "id": "6afc8df4-b3c4-4401-bbcc-1cd553ca3a78",
   "metadata": {},
   "outputs": [],
   "source": [
    "loc_sal = salary_df.groupby(['Location'])['Salary_USD_Yr'].agg([np.mean])"
   ]
  },
  {
   "cell_type": "code",
   "execution_count": 20,
   "id": "af14d3a6-a03b-4436-bf50-3cad39b957ba",
   "metadata": {},
   "outputs": [
    {
     "data": {
      "image/png": "[encoded data removed]",
      "text/plain": [
       "<Figure size 432x288 with 1 Axes>"
      ]
     },
     "metadata": {
      "needs_background": "light"
     },
     "output_type": "display_data"
    }
   ],
   "source": [
    "ax1 = loc_sal.plot.bar(title =\"Salary by Location\", figsize=(6, 4), fontsize=12)\n",
    "ax1.set_xlabel(\"Location\", fontsize=12)\n",
    "ax1.set_ylabel(\"Salary (Yearly USD)\", fontsize=12)\n",
    "plt.show()"
   ]
  },
  {
   "cell_type": "markdown",
   "id": "d782bfd2-c66a-411c-a09b-2126997ab566",
   "metadata": {},
   "source": [
    "#### Box plot Salary by Location"
   ]
  },
  {
   "cell_type": "code",
   "execution_count": 13,
   "id": "eadbe0d8-b08b-4d06-bf9f-0d4379381f9f",
   "metadata": {},
   "outputs": [
    {
     "data": {
      "image/png": "[encoded data removed]",
      "text/plain": [
       "<Figure size 432x288 with 1 Axes>"
      ]
     },
     "metadata": {
      "needs_background": "light"
     },
     "output_type": "display_data"
    }
   ],
   "source": [
    "ax2 = salary_df.boxplot(column=['Salary_USD_Yr'], by='Location', figsize=(6, 4), fontsize=12)\n",
    "ax2.set_title('')\n",
    "ax2.set_xlabel(\"Location\", fontsize=12)\n",
    "ax2.set_ylabel(\"Salary (Yearly USD)\", fontsize=12)\n",
    "plt.show()"
   ]
  },
  {
   "cell_type": "markdown",
   "id": "58b6f8ee-713d-4fa2-b282-271fa1a171e6",
   "metadata": {},
   "source": [
    "### Companies"
   ]
  },
  {
   "cell_type": "markdown",
   "id": "139d237d-25da-49c3-926d-122319856929",
   "metadata": {},
   "source": [
    "#### Company group summary stats"
   ]
  },
  {
   "cell_type": "code",
   "execution_count": 14,
   "id": "083e1466-40cc-4082-8691-919e0dd13fdb",
   "metadata": {},
   "outputs": [
    {
     "data": {
      "text/html": [
       "<div>\n",
       "<style scoped>\n",
       "    .dataframe tbody tr th:only-of-type {\n",
       "        vertical-align: middle;\n",
       "    }\n",
       "\n",
       "    .dataframe tbody tr th {\n",
       "        vertical-align: top;\n",
       "    }\n",
       "\n",
       "    .dataframe thead th {\n",
       "        text-align: right;\n",
       "    }\n",
       "</style>\n",
       "<table border=\"1\" class=\"dataframe\">\n",
       "  <thead>\n",
       "    <tr style=\"text-align: right;\">\n",
       "      <th></th>\n",
       "      <th>mean</th>\n",
       "      <th>std</th>\n",
       "      <th>var</th>\n",
       "      <th>len</th>\n",
       "    </tr>\n",
       "    <tr>\n",
       "      <th>Company_Name</th>\n",
       "      <th></th>\n",
       "      <th></th>\n",
       "      <th></th>\n",
       "      <th></th>\n",
       "    </tr>\n",
       "  </thead>\n",
       "  <tbody>\n",
       "    <tr>\n",
       "      <th>ABC</th>\n",
       "      <td>11168.521000</td>\n",
       "      <td>9245.562508</td>\n",
       "      <td>8.548043e+07</td>\n",
       "      <td>20</td>\n",
       "    </tr>\n",
       "    <tr>\n",
       "      <th>Accenture</th>\n",
       "      <td>9660.773633</td>\n",
       "      <td>6453.077476</td>\n",
       "      <td>4.164221e+07</td>\n",
       "      <td>30</td>\n",
       "    </tr>\n",
       "    <tr>\n",
       "      <th>Amazon</th>\n",
       "      <td>9557.380677</td>\n",
       "      <td>7111.942270</td>\n",
       "      <td>5.057972e+07</td>\n",
       "      <td>31</td>\n",
       "    </tr>\n",
       "    <tr>\n",
       "      <th>Capgemini</th>\n",
       "      <td>9799.297529</td>\n",
       "      <td>3791.661522</td>\n",
       "      <td>1.437670e+07</td>\n",
       "      <td>17</td>\n",
       "    </tr>\n",
       "    <tr>\n",
       "      <th>Cognizant Technology Solutions</th>\n",
       "      <td>8511.300571</td>\n",
       "      <td>3063.803932</td>\n",
       "      <td>9.386895e+06</td>\n",
       "      <td>21</td>\n",
       "    </tr>\n",
       "  </tbody>\n",
       "</table>\n",
       "</div>"
      ],
      "text/plain": [
       "                                        mean          std           var  len\n",
       "Company_Name                                                                \n",
       "ABC                             11168.521000  9245.562508  8.548043e+07   20\n",
       "Accenture                        9660.773633  6453.077476  4.164221e+07   30\n",
       "Amazon                           9557.380677  7111.942270  5.057972e+07   31\n",
       "Capgemini                        9799.297529  3791.661522  1.437670e+07   17\n",
       "Cognizant Technology Solutions   8511.300571  3063.803932  9.386895e+06   21"
      ]
     },
     "execution_count": 14,
     "metadata": {},
     "output_type": "execute_result"
    }
   ],
   "source": [
    "company_df = salary_df.groupby(['Company_Name'])['Salary_USD_Yr'].agg([np.mean, np.std, np.var, len])\n",
    "indexes = company_df[company_df['len'] <= 10].index\n",
    "company_df.drop(indexes,inplace=True)\n",
    "company_df.sort_values(by=['mean'], ascending=False)\n",
    "company_df.head()"
   ]
  },
  {
   "cell_type": "code",
   "execution_count": 18,
   "id": "31559928-dffa-459a-9699-d376dc127ab7",
   "metadata": {},
   "outputs": [
    {
     "data": {
      "image/png": "[encoded data removed]",
      "text/plain": [
       "<Figure size 432x288 with 1 Axes>"
      ]
     },
     "metadata": {
      "needs_background": "light"
     },
     "output_type": "display_data"
    }
   ],
   "source": [
    "ax3 = company_df.sort_values('mean').plot.bar(y = 'mean',\n",
    "                          title =\"Salary by Company\", figsize=(6, 4), fontsize=12)\n",
    "ax3.set_xlabel(\"Company\", fontsize=12)\n",
    "ax3.set_ylabel(\"Salary (Yearly USD)\", fontsize=12)\n",
    "plt.show()"
   ]
  }
 ],
 "metadata": {
  "kernelspec": {
   "display_name": "Python 3 (ipykernel)",
   "language": "python",
   "name": "python3"
  },
  "language_info": {
   "codemirror_mode": {
    "name": "ipython",
    "version": 3
   },
   "file_extension": ".py",
   "mimetype": "text/x-python",
   "name": "python",
   "nbconvert_exporter": "python",
   "pygments_lexer": "ipython3",
   "version": "3.9.7"
  }
 },
 "nbformat": 4,
 "nbformat_minor": 5
}
